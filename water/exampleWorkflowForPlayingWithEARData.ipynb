{
 "cells": [
  {
   "cell_type": "markdown",
   "metadata": {},
   "source": [
    "## Datascience hackathon at UC Berkeley\n",
    "### Project: Suggestion #1 Cleaning data sets and providing feedback\n",
    "09/15/18\n",
    "Spencer Harris\n",
    "spharris@sas.upenn.edu"
   ]
  },
  {
   "cell_type": "markdown",
   "metadata": {},
   "source": [
    "# This notebook is a draft concept\n",
    "The author asks that any readers assume nothing about validity of statements made or code, for now"
   ]
  },
  {
   "cell_type": "markdown",
   "metadata": {},
   "source": [
    "__Initial takeway from Project 1 explaination by R. Maestu:__\n",
    "\n",
    "_The way the data is collected is a Excel spreadsheet with 300 columns, structure is very ungainly or show how can we use it?--\n",
    "Fields can be have incorrect field type_\n",
    "________"
   ]
  },
  {
   "cell_type": "markdown",
   "metadata": {},
   "source": [
    "#1: Understanding the data gaps: visualizing the quantity & quality of existing data\n",
    "Rafael Maestu\n",
    "\n",
    "Every year, public water systems are required to submit an annual report that includes information such as water quantity used, sources of water, water fees charged, water quality violations, etc.\n",
    "\n",
    "This reporting is now electronic through a webform, but data is not always usable (e.g., someone enters in a text string instead of a number) or complete (fields may be blank). The focus has been on collecting the annual reports but time and resources limits the ability to correct data gaps. As a result, the use of the data reported is limited.  \n",
    "\n",
    "1) How might we redesign or shape paths for effective data collection and analysis for this required water quality reporting?\n",
    "\n",
    "\n",
    "\n",
    "2) This project will work to visualize the problem, making a case for change. What percentage of records could be considered complete or accurate?\n",
    "\n",
    "\n",
    "\n",
    "3) What system checks can we include to minimize data gaps? \n",
    "\n",
    "\n",
    "\n",
    "Relevant data sets: \n",
    "300 rows for a recent year published: \n",
    "Recommended Datasets List: #5, #6, #8"
   ]
  },
  {
   "cell_type": "markdown",
   "metadata": {},
   "source": [
    "### Dataset #8\n",
    "[Public System Water Produced Reported in the Electronic Annual Report (EAR)* __data location__(dataset #8) ](https://data.ca.gov/dataset/drinking-water-%E2%80%93-public-water-system-annually-reported-water-production-and-delivery-3)\n",
    "\n",
    "Data Description: This is the 2016 EAR data that is self reported and includes more than produced and delivered water data...from the PWS (public system water) data submitted in their annual inventory information using the DRINC (Drinking water information clearninghouse) [Portal](https://drinc.ca.gov/drinc/) - EAR (electronic annual report) module - for the years 2013 through 2016.  \n",
    "\n",
    "This data in the EAR is self-reported by PWS. "
   ]
  },
  {
   "cell_type": "markdown",
   "metadata": {},
   "source": [
    "goals: "
   ]
  },
  {
   "cell_type": "code",
   "execution_count": 1,
   "metadata": {},
   "outputs": [],
   "source": [
    "import os\n",
    "import sys\n",
    "import pandas as pd\n",
    "import numpy as np\n",
    "import re\n",
    "from matplotlib import pyplot as plt"
   ]
  },
  {
   "cell_type": "code",
   "execution_count": 2,
   "metadata": {},
   "outputs": [
    {
     "data": {
      "text/plain": [
       "'/home/lososian/projects/UC_water_datahackaton'"
      ]
     },
     "execution_count": 2,
     "metadata": {},
     "output_type": "execute_result"
    }
   ],
   "source": [
    "%pwd"
   ]
  },
  {
   "cell_type": "code",
   "execution_count": 15,
   "metadata": {},
   "outputs": [],
   "source": [
    "raw_df = pd.read_excel('./EAR_Datasets_1.xlsx', sheet_name='Table1_Final')"
   ]
  },
  {
   "cell_type": "code",
   "execution_count": 16,
   "metadata": {
    "scrolled": true
   },
   "outputs": [
    {
     "data": {
      "text/plain": [
       "(6817, 87)"
      ]
     },
     "execution_count": 16,
     "metadata": {},
     "output_type": "execute_result"
    }
   ],
   "source": [
    "raw_df.shape"
   ]
  },
  {
   "cell_type": "code",
   "execution_count": 17,
   "metadata": {},
   "outputs": [
    {
     "data": {
      "text/plain": [
       "Index(['PWSID', 'Water_System_Name', 'Water_System_Classification',\n",
       "       'Water_System_Ownership', 'Physical_location_Address_1',\n",
       "       'Physical_location_Address_2', 'Physical_location_City',\n",
       "       'Physical_location_Zip', 'Office_Phone', 'Website_URL', 'Reporter_Name',\n",
       "       'Reporter_Title', 'Reporter_Business_Phone', 'Reporter_Email',\n",
       "       'Population', 'Population_Estimation_Method',\n",
       "       'Population_Estimation_Method_Other', 'Population_Seasonal_Max',\n",
       "       'Season_Begin_MM', 'Season_Begin_DD', 'Season_End_MM', 'Season_End_DD',\n",
       "       'Population_Res_Begin_Date_MM', 'Population_Res_Begin_Date_DD',\n",
       "       'Population_Res_End_Date_MM', 'Population_Res_End_Date_DD',\n",
       "       'Population_Trans', 'Population_Trans_Begin_Date_MM',\n",
       "       'Population_Trans_Begin_Date_DD', 'Population_Trans_End_Date_MM',\n",
       "       'Population_Trans_End_Date_DD', 'Population_Non-Trans',\n",
       "       'Population_Non-Trans_Begin_Date_MM',\n",
       "       'Population_Non-Trans_Begin_Date_DD',\n",
       "       'Population_Non-Trans_End_Date_MM', 'Population_Non-Trans_End_Date_DD',\n",
       "       'Communities_Served', 'Cur_Total_Connections', 'SFR_Potable_UM',\n",
       "       'SFR_Potable_M', 'SFR_Potable_Total', 'SFR_Recycled_UM',\n",
       "       'SFR_Recycled_M', 'SFR_Recycled_Total', 'MFR_Potable_UM',\n",
       "       'MFR_Potable_M', 'MFR_Potable_Total', 'MFR_Recycled_UM',\n",
       "       'MFR_Recycled_M', 'MFR_Recycled_Total', 'CI_Potable_UM', 'CI_Potable_M',\n",
       "       'CI_Potable_Total', 'CI_Recycled_UM', 'CI_Recycled_M',\n",
       "       'CI_Recycled_Total', 'I_Potable_UM', 'I_Potable_M', 'I_Potable_Total',\n",
       "       'I_Recycled_UM', 'I_Recycled_M', 'I_Recycled_Total', 'LI_Potable_UM',\n",
       "       'LI_Potable_M', 'LI_Potable_Total', 'LI_Recycled_UM', 'LI_Recycled_M',\n",
       "       'LI_Recycled_Total', 'AI_Potable_UM', 'AI_Potable_M',\n",
       "       'AI_Potable_Total', 'AI_Recycled_UM', 'AI_Recycled_M',\n",
       "       'AI_Recycled_Total', 'T_Potable_UM', 'T_Potable_M', 'T_Potable_Total',\n",
       "       'T_Recycled_UM', 'T_Recycled_M', 'T_Recycled_Total', 'O_Potable_UM',\n",
       "       'O_Potable_M', 'O_Potable_Total', 'O_Recycled_UM', 'O_Recycled_M',\n",
       "       'O_Recycled_Total', 'Inactive_Connections'],\n",
       "      dtype='object')"
      ]
     },
     "execution_count": 17,
     "metadata": {},
     "output_type": "execute_result"
    }
   ],
   "source": [
    "df_1 = raw_df\n",
    "df_1.columns = df_1.columns.str.replace(\"[(.)]\", \"_\") ## remove periods from column headers\n",
    "df_1.columns = df_1.columns.str.replace(\"[( )]\", \"_\") ## remove spaces from column headers\n",
    "df_1.columns"
   ]
  },
  {
   "cell_type": "code",
   "execution_count": 19,
   "metadata": {},
   "outputs": [
    {
     "data": {
      "text/plain": [
       "6813"
      ]
     },
     "execution_count": 19,
     "metadata": {},
     "output_type": "execute_result"
    }
   ],
   "source": [
    "len(df_1['PWSID'][df_1['Water_System_Name'].notnull()].unique()) ##matches shape of df_1, gucci, can work with this"
   ]
  },
  {
   "cell_type": "code",
   "execution_count": 20,
   "metadata": {},
   "outputs": [
    {
     "data": {
      "text/plain": [
       "6058"
      ]
     },
     "execution_count": 20,
     "metadata": {},
     "output_type": "execute_result"
    }
   ],
   "source": [
    "len(df_1['PWSID'][df_1['Water_System_Classification'].notnull()].unique()) ## doesnt matche shape of df_1 .....\n",
    "## looks like there is no option for a non-public water system option for the Water_System_Classification entry"
   ]
  },
  {
   "cell_type": "code",
   "execution_count": 23,
   "metadata": {},
   "outputs": [
    {
     "data": {
      "text/plain": [
       "731"
      ]
     },
     "execution_count": 23,
     "metadata": {},
     "output_type": "execute_result"
    }
   ],
   "source": [
    "## rows with blank entries in Water_System_Classification\n",
    "len(df_1.loc[(df_1.Water_System_Classification == ' ') ]) "
   ]
  },
  {
   "cell_type": "code",
   "execution_count": 24,
   "metadata": {},
   "outputs": [
    {
     "data": {
      "text/plain": [
       "418"
      ]
     },
     "execution_count": 24,
     "metadata": {},
     "output_type": "execute_result"
    }
   ],
   "source": [
    "## rows with blank entries in Water_System_Classification and listed as privately owned business\n",
    "len(df_1.loc[(df_1.Water_System_Classification == ' ') &\n",
    "         (df_1.Water_System_Ownership == 'Privately owned business (non-community)')])"
   ]
  },
  {
   "cell_type": "code",
   "execution_count": 31,
   "metadata": {},
   "outputs": [
    {
     "ename": "ValueError",
     "evalue": "cannot index with vector containing NA / NaN values",
     "output_type": "error",
     "traceback": [
      "\u001b[0;31m---------------------------------------------------------------------------\u001b[0m",
      "\u001b[0;31mValueError\u001b[0m                                Traceback (most recent call last)",
      "\u001b[0;32m<ipython-input-31-328fd833dcac>\u001b[0m in \u001b[0;36m<module>\u001b[0;34m()\u001b[0m\n\u001b[0;32m----> 1\u001b[0;31m \u001b[0mraw_df\u001b[0m\u001b[0;34m.\u001b[0m\u001b[0mloc\u001b[0m\u001b[0;34m[\u001b[0m\u001b[0mraw_df\u001b[0m\u001b[0;34m[\u001b[0m\u001b[0;34m'Water_System_Classification'\u001b[0m\u001b[0;34m]\u001b[0m\u001b[0;34m.\u001b[0m\u001b[0mstr\u001b[0m\u001b[0;34m.\u001b[0m\u001b[0mcontains\u001b[0m\u001b[0;34m(\u001b[0m\u001b[0;34m'non public'\u001b[0m\u001b[0;34m,\u001b[0m \u001b[0mcase\u001b[0m \u001b[0;34m=\u001b[0m \u001b[0;32mFalse\u001b[0m\u001b[0;34m)\u001b[0m\u001b[0;34m]\u001b[0m\u001b[0;34m\u001b[0m\u001b[0m\n\u001b[0m",
      "\u001b[0;32m~/anaconda3/lib/python3.6/site-packages/pandas/core/indexing.py\u001b[0m in \u001b[0;36m__getitem__\u001b[0;34m(self, key)\u001b[0m\n\u001b[1;32m   1476\u001b[0m \u001b[0;34m\u001b[0m\u001b[0m\n\u001b[1;32m   1477\u001b[0m             \u001b[0mmaybe_callable\u001b[0m \u001b[0;34m=\u001b[0m \u001b[0mcom\u001b[0m\u001b[0;34m.\u001b[0m\u001b[0m_apply_if_callable\u001b[0m\u001b[0;34m(\u001b[0m\u001b[0mkey\u001b[0m\u001b[0;34m,\u001b[0m \u001b[0mself\u001b[0m\u001b[0;34m.\u001b[0m\u001b[0mobj\u001b[0m\u001b[0;34m)\u001b[0m\u001b[0;34m\u001b[0m\u001b[0m\n\u001b[0;32m-> 1478\u001b[0;31m             \u001b[0;32mreturn\u001b[0m \u001b[0mself\u001b[0m\u001b[0;34m.\u001b[0m\u001b[0m_getitem_axis\u001b[0m\u001b[0;34m(\u001b[0m\u001b[0mmaybe_callable\u001b[0m\u001b[0;34m,\u001b[0m \u001b[0maxis\u001b[0m\u001b[0;34m=\u001b[0m\u001b[0maxis\u001b[0m\u001b[0;34m)\u001b[0m\u001b[0;34m\u001b[0m\u001b[0m\n\u001b[0m\u001b[1;32m   1479\u001b[0m \u001b[0;34m\u001b[0m\u001b[0m\n\u001b[1;32m   1480\u001b[0m     \u001b[0;32mdef\u001b[0m \u001b[0m_is_scalar_access\u001b[0m\u001b[0;34m(\u001b[0m\u001b[0mself\u001b[0m\u001b[0;34m,\u001b[0m \u001b[0mkey\u001b[0m\u001b[0;34m)\u001b[0m\u001b[0;34m:\u001b[0m\u001b[0;34m\u001b[0m\u001b[0m\n",
      "\u001b[0;32m~/anaconda3/lib/python3.6/site-packages/pandas/core/indexing.py\u001b[0m in \u001b[0;36m_getitem_axis\u001b[0;34m(self, key, axis)\u001b[0m\n\u001b[1;32m   1865\u001b[0m             \u001b[0mself\u001b[0m\u001b[0;34m.\u001b[0m\u001b[0m_validate_key\u001b[0m\u001b[0;34m(\u001b[0m\u001b[0mkey\u001b[0m\u001b[0;34m,\u001b[0m \u001b[0maxis\u001b[0m\u001b[0;34m)\u001b[0m\u001b[0;34m\u001b[0m\u001b[0m\n\u001b[1;32m   1866\u001b[0m             \u001b[0;32mreturn\u001b[0m \u001b[0mself\u001b[0m\u001b[0;34m.\u001b[0m\u001b[0m_get_slice_axis\u001b[0m\u001b[0;34m(\u001b[0m\u001b[0mkey\u001b[0m\u001b[0;34m,\u001b[0m \u001b[0maxis\u001b[0m\u001b[0;34m=\u001b[0m\u001b[0maxis\u001b[0m\u001b[0;34m)\u001b[0m\u001b[0;34m\u001b[0m\u001b[0m\n\u001b[0;32m-> 1867\u001b[0;31m         \u001b[0;32melif\u001b[0m \u001b[0mcom\u001b[0m\u001b[0;34m.\u001b[0m\u001b[0mis_bool_indexer\u001b[0m\u001b[0;34m(\u001b[0m\u001b[0mkey\u001b[0m\u001b[0;34m)\u001b[0m\u001b[0;34m:\u001b[0m\u001b[0;34m\u001b[0m\u001b[0m\n\u001b[0m\u001b[1;32m   1868\u001b[0m             \u001b[0;32mreturn\u001b[0m \u001b[0mself\u001b[0m\u001b[0;34m.\u001b[0m\u001b[0m_getbool_axis\u001b[0m\u001b[0;34m(\u001b[0m\u001b[0mkey\u001b[0m\u001b[0;34m,\u001b[0m \u001b[0maxis\u001b[0m\u001b[0;34m=\u001b[0m\u001b[0maxis\u001b[0m\u001b[0;34m)\u001b[0m\u001b[0;34m\u001b[0m\u001b[0m\n\u001b[1;32m   1869\u001b[0m         \u001b[0;32melif\u001b[0m \u001b[0mis_list_like_indexer\u001b[0m\u001b[0;34m(\u001b[0m\u001b[0mkey\u001b[0m\u001b[0;34m)\u001b[0m\u001b[0;34m:\u001b[0m\u001b[0;34m\u001b[0m\u001b[0m\n",
      "\u001b[0;32m~/anaconda3/lib/python3.6/site-packages/pandas/core/common.py\u001b[0m in \u001b[0;36mis_bool_indexer\u001b[0;34m(key)\u001b[0m\n\u001b[1;32m    102\u001b[0m             \u001b[0;32mif\u001b[0m \u001b[0;32mnot\u001b[0m \u001b[0mlib\u001b[0m\u001b[0;34m.\u001b[0m\u001b[0mis_bool_array\u001b[0m\u001b[0;34m(\u001b[0m\u001b[0mkey\u001b[0m\u001b[0;34m)\u001b[0m\u001b[0;34m:\u001b[0m\u001b[0;34m\u001b[0m\u001b[0m\n\u001b[1;32m    103\u001b[0m                 \u001b[0;32mif\u001b[0m \u001b[0misna\u001b[0m\u001b[0;34m(\u001b[0m\u001b[0mkey\u001b[0m\u001b[0;34m)\u001b[0m\u001b[0;34m.\u001b[0m\u001b[0many\u001b[0m\u001b[0;34m(\u001b[0m\u001b[0;34m)\u001b[0m\u001b[0;34m:\u001b[0m\u001b[0;34m\u001b[0m\u001b[0m\n\u001b[0;32m--> 104\u001b[0;31m                     raise ValueError('cannot index with vector containing '\n\u001b[0m\u001b[1;32m    105\u001b[0m                                      'NA / NaN values')\n\u001b[1;32m    106\u001b[0m                 \u001b[0;32mreturn\u001b[0m \u001b[0;32mFalse\u001b[0m\u001b[0;34m\u001b[0m\u001b[0m\n",
      "\u001b[0;31mValueError\u001b[0m: cannot index with vector containing NA / NaN values"
     ]
    }
   ],
   "source": [
    "raw_df.loc[raw_df['Water_System_Classification'].str.contains('non public', case = False)] \n",
    "## problem of empty entires"
   ]
  },
  {
   "cell_type": "code",
   "execution_count": 30,
   "metadata": {},
   "outputs": [
    {
     "data": {
      "text/plain": [
       "array(['Community Water System', ' ',\n",
       "       'Transient Noncommunity Water System',\n",
       "       'Nontransient Noncommunity Water System', nan,\n",
       "       'Privately owned, PUC-regulated, for profit water company',\n",
       "       'Local Government'], dtype=object)"
      ]
     },
     "execution_count": 30,
     "metadata": {},
     "output_type": "execute_result"
    }
   ],
   "source": [
    "raw_df['Water_System_Classification'].unique()"
   ]
  },
  {
   "cell_type": "markdown",
   "metadata": {},
   "source": [
    "# Issue 1\n",
    "### public vs. non public distinction is not clear.\n",
    "\n",
    "There are no entries in the __Water\\_System\\_Name__ column with \"_non public_\" as an entry, There should be? based on the explaination below [Source](https://data.ca.gov/sites/default/files/PRODUCTION%20POTABLE%20WATER%20DATA%20DICTIONARY.pdf):\n",
    "\n",
    "\"Water systems are classified\n",
    "according to rules developed by the\n",
    "U.S. Environmental Protection\n",
    "Agency (EPA) and each state.\n",
    "Water Systems fall into two broad\n",
    "categories: public and non-public.\"\n",
    "\n",
    "\"A public water system can be further classified as one of\n",
    "the following:  \n",
    "__C__ - Community Serves at least 15 service connections\n",
    "used by year-round residents or regularly serves 25 yearround\n",
    "residents.  \n",
    "__NTNC__ - Non-Transient Non-Community Serves at least\n",
    "the same 25 non-residential individuals during 6 months of\n",
    "the year.  \n",
    "__NC__ - Transient Non-Community Regularly serves at least\n",
    "25 non-residential individuals (transient) during 60 or more\n",
    "days per year.  \n",
    "\n",
    "This classification is based on information in each of the\n",
    "following five areas:\n",
    "1. Quantity and type of population served (e.g., transient,\n",
    "residential).\n",
    "2. Number of days served (or annual operating period\n",
    "(i.e., the period(s) of the year that the water system is in\n",
    "operation)).\n",
    "3. Number of service connections (i.e., the number of\n",
    "connections for each service area such as commercial,\n",
    "agricultural, residential).\n",
    "4. Activity status of the water system (i.e., active or\n",
    "inactive).\n",
    "5. Sources of water (e.g., reservoir, well. Sources of\n",
    "water may be active or inactive depending on whether the\n",
    "source is seasonal or year-round. The current date\n",
    "determines active or inactive status). \"\n",
    "\n",
    "------\n",
    "\n",
    "more explaination below from different [Source](http://drinc.ca.gov/ear/2016SWSHelp.htm#WSC):  \n",
    "\n",
    "\"PUBLIC WATER SYSTEM CLASSIFICATION\tDESCRIPTION\n",
    "\n",
    "__Community Water System__\tA public water system that serves at least 15 service connections used by yearlong residents or regularly serves at least 25 yearlong residents of the area served by the system. The term ‘residence’ generally means single-family homes, but also includes dwelling units that are more or less equivalent to a residential home. This would include cabins, cottages, mobile homes, efficiency living units, apartments, etc., that are used on a long-term basis by residents. The term ‘yearlong’ infers use that exceeds 6 months of the year. Using this criterion, examples of community water systems may include second home subdivisions, cabin clusters, apartment buildings, mobile home or trailer parks, labor camps and correctional facilities.  \n",
    "\n",
    "__Transient Noncommunity Water System__\tA public water system that regularly serves at least 25 persons daily for at least 60 days out of the year, but does not serve the same 25 persons for over 6 months per year. The days do not have to be consecutive. Examples of a transient noncommunity water system include day-use facilities, campgrounds, resorts, rest-stops, restaurants, hotels, visitor centers, churches, cabin clusters that do not have access for part of the year, and businesses with fewer than 25 employees but regularly has over 25 customers daily for over 60 days per year.  \n",
    "\n",
    "__Nontransient Noncommunity Water System__\tA public water system that is not a community water system and that regularly serves at least 25 of the same persons over 6 months per year. Examples include businesses with over 25 employees, day care facilities, and schools,\"\n",
    "\n",
    "------------\n",
    "## Suggestion\n",
    "\n",
    "In the data set these are the values found in the __Water System Classification__ field:  \n",
    "`Community Water System', ' ', 'Transient Noncommunity Water System', 'Nontransient Noncommunity Water System', nan, 'Privately owned, PUC-regulated, for profit water company', 'Local Government'`\n",
    "\n",
    "Looking at the PDF submission [form](https://data.ca.gov/sites/default/files/2016EAR_SWSTemplate.pdf) This looks like an open field? it should be constrained to a Valid Value List via dropdown menu containing only:\n",
    "\n",
    "__Community Water System__  \n",
    "__Transient Noncommunity Water System__  \n",
    "__Nontransient Noncommunity Water System__  \n",
    "?__Non Public__? <-- suggestion\n"
   ]
  },
  {
   "cell_type": "code",
   "execution_count": null,
   "metadata": {},
   "outputs": [],
   "source": [
    "## attempting to fill data gaps in Water_System_Classfication\n",
    "df_1.loc[(df_1.Water_System_Classification == ' ') & \n",
    "          (df_1.Water_System_Ownership == 'Privately owned business (non-community)'),\n",
    "         'Water_System_Classification'] = 'Non Public'\n",
    "\n",
    "df_1.loc[(df_1.Water_System_Classification == ' ') & \n",
    "          (df_1.Water_System_Ownership.str.contains('Community Water System')),\n",
    "         'Water_System_Classification'] = 'Community Water System'\n",
    "\n",
    "df_1.loc[(df_1.Water_System_Classification == ' ') & \n",
    "          (df_1.Water_System_Name.str.contains('SCHOOL')),\n",
    "         'Water_System_Classification'] = 'Nontransient Noncommunity Water System'\n",
    "\n",
    "df_1.loc[(df_1.Water_System_Classification == ' ') & \n",
    "          (df_1.Water_System_Name.str.contains('CAMP')),\n",
    "         'Water_System_Classification'] = 'Transient Noncommunity Water System'"
   ]
  },
  {
   "cell_type": "markdown",
   "metadata": {},
   "source": [
    "# from here down is old/scrap/scratch, 9:50 AM 20180915"
   ]
  },
  {
   "cell_type": "code",
   "execution_count": null,
   "metadata": {},
   "outputs": [],
   "source": [
    "df_1.loc[(df_1.Water_System_Classification == ' ') ]"
   ]
  },
  {
   "cell_type": "code",
   "execution_count": null,
   "metadata": {},
   "outputs": [],
   "source": [
    "df_1"
   ]
  },
  {
   "cell_type": "code",
   "execution_count": null,
   "metadata": {},
   "outputs": [],
   "source": [
    "len(df_1['PWSID'][df_1['Water_System_Classification'].notnull()].unique()) ## doesnt matche shape of df_1 ....."
   ]
  },
  {
   "cell_type": "code",
   "execution_count": null,
   "metadata": {
    "scrolled": true
   },
   "outputs": [],
   "source": [
    "df_1.loc[df_1.Water_System_Ownership == 'Privately owned business (non-community)' &\n",
    "         df_1.Water_System_Classification.isnull(), 'Water_System_Classification'] = 'Non Public'"
   ]
  },
  {
   "cell_type": "code",
   "execution_count": null,
   "metadata": {},
   "outputs": [],
   "source": [
    "if df_1['Water_System_Ownership'] == 'Privately owned business (non-community)':\n",
    "    df_1['Water_System_Classification'] = 'Non Public'"
   ]
  },
  {
   "cell_type": "markdown",
   "metadata": {},
   "source": [
    "### population (dataset #5), water required per person (dataset #5), water produced in house, water purchased,??? "
   ]
  },
  {
   "cell_type": "code",
   "execution_count": null,
   "metadata": {},
   "outputs": [],
   "source": [
    "raw_df_data5.columns"
   ]
  },
  {
   "cell_type": "code",
   "execution_count": null,
   "metadata": {},
   "outputs": [],
   "source": [
    "len(raw_df_data5['Water.System.Name'].unique())"
   ]
  },
  {
   "cell_type": "code",
   "execution_count": null,
   "metadata": {},
   "outputs": [],
   "source": [
    "type(raw_df_data5['Water.System.Name'][1])"
   ]
  },
  {
   "cell_type": "code",
   "execution_count": null,
   "metadata": {},
   "outputs": [],
   "source": [
    "raw_df_data5.columns = raw_df_data5.columns.str.replace(\"[(.)]\", \"_\") ## remove periods from column headers\n",
    "raw_df_data5.columns = raw_df_data5.columns.str.replace(\"[( )]\", \"_\") ## remove periods from column headers"
   ]
  },
  {
   "cell_type": "code",
   "execution_count": null,
   "metadata": {},
   "outputs": [],
   "source": [
    "raw_df_data5"
   ]
  },
  {
   "cell_type": "code",
   "execution_count": null,
   "metadata": {},
   "outputs": [],
   "source": [
    "#raw_df_data5.loc[raw_df_data5['_Population_Of_Service_Area_'] == raw_df_data5['_Population_Of_Service_Area_'].max()]"
   ]
  },
  {
   "cell_type": "code",
   "execution_count": null,
   "metadata": {},
   "outputs": [],
   "source": [
    "raw_df_data5['_PWSID_'][raw_df_data5['Water_System_Name'].isnull()].unique()"
   ]
  },
  {
   "cell_type": "code",
   "execution_count": null,
   "metadata": {},
   "outputs": [],
   "source": [
    "## % of unique (with respect to PWSID) entires which do not have population data\n",
    "(len(raw_df_data5['_PWSID_'][raw_df_data5['_Population_Of_Service_Area_'].isnull()].unique())/\n",
    "len(raw_df_data5['_PWSID_'][raw_df_data5['_Population_Of_Service_Area_'].notnull()].unique()) * 100)"
   ]
  },
  {
   "cell_type": "code",
   "execution_count": null,
   "metadata": {},
   "outputs": [],
   "source": [
    "dict_PWSID_Water_System_Name = raw_df_data5.set_index('_PWSID_').to_dict()['Water_System_Name']"
   ]
  },
  {
   "cell_type": "code",
   "execution_count": null,
   "metadata": {},
   "outputs": [],
   "source": [
    "## filling all 'Nan' in the Water_System_Name\n",
    "raw_df_data5['Water_System_Name'] = raw_df_data5['Water_System_Name'].fillna(\n",
    "    raw_df_data5._PWSID_.map(dict_PWSID_Water_System_Name))"
   ]
  },
  {
   "cell_type": "code",
   "execution_count": null,
   "metadata": {},
   "outputs": [],
   "source": [
    "raw_df_data5['_PWSID_'][raw_df_data5['Water_System_Name'].isnull()].unique() ## seems legit"
   ]
  },
  {
   "cell_type": "markdown",
   "metadata": {},
   "source": [
    "## fixing water classification system"
   ]
  },
  {
   "cell_type": "code",
   "execution_count": null,
   "metadata": {},
   "outputs": [],
   "source": [
    "raw_df_data5['_PWSID_'][raw_df_data5['Water_System_Classification'].isnull()].unique()"
   ]
  },
  {
   "cell_type": "code",
   "execution_count": null,
   "metadata": {},
   "outputs": [],
   "source": [
    "\n",
    "\n",
    "for i in raw_df_data5.columns:\n",
    "    dict_%s = raw_df_data5.set_index('_PWSID_').to_dict()['i']\n",
    "    "
   ]
  }
 ],
 "metadata": {
  "kernelspec": {
   "display_name": "Python 3",
   "language": "python",
   "name": "python3"
  },
  "language_info": {
   "codemirror_mode": {
    "name": "ipython",
    "version": 3
   },
   "file_extension": ".py",
   "mimetype": "text/x-python",
   "name": "python",
   "nbconvert_exporter": "python",
   "pygments_lexer": "ipython3",
   "version": "3.6.5"
  }
 },
 "nbformat": 4,
 "nbformat_minor": 2
}
